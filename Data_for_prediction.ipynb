{
 "cells": [
  {
   "cell_type": "code",
   "execution_count": 1,
   "id": "86f8c6b3",
   "metadata": {},
   "outputs": [
    {
     "name": "stdout",
     "output_type": "stream",
     "text": [
      "✅ New synthetic claims saved to 'new_claims.csv'\n"
     ]
    }
   ],
   "source": [
    "import pandas as pd\n",
    "import numpy as np\n",
    "from faker import Faker\n",
    "import random\n",
    "\n",
    "fake = Faker()\n",
    "np.random.seed(123)\n",
    "random.seed(123)\n",
    "\n",
    "# Reuse constants from your previous code\n",
    "SPECIALTIES = ['Plastic Surgery', 'Emergency Medicine', 'Radiology', 'Critical Care', 'General Surgery',\n",
    "               'Physical Medicine and Rehabilitation', 'Anesthesiology', 'Orthopedics', 'Pulmonary Medicine',\n",
    "               'Neurology', 'Infectious Diseases', 'Rheumatology', 'Urology', 'OB-GYN', 'Allergy and Immunology',\n",
    "               'Oncology', 'Psychiatry', 'Gastroenterology', 'Dermatology', 'Internal Medicine', 'Cardiology',\n",
    "               'Nephrology', 'Family Medicine', 'Otolaryngology', 'Pediatrics', 'Diabetes and Endocrinology',\n",
    "               'Ophthalmology']\n",
    "\n",
    "ICD10_CODES = ['E11.9', 'I10', 'M17.9', 'E78.5', 'J44.9', 'Z23', 'N18.9', 'F32.9', 'K21.9', 'R10.9']\n",
    "CPT_CODES = ['99213', '99214', '99203', '99215', '99204', '99212', '99211', '99205', '90471', '99202']\n",
    "INSURANCE_PROVIDERS = ['UnitedHealthcare', 'Anthem', 'Humana', 'Cigna', 'Blue Cross Blue Shield', 'Aetna', 'Kaiser Permanente']\n",
    "\n",
    "def generate_new_claims(n=200):\n",
    "    data = {\n",
    "        'claim_id': [],\n",
    "        'patient_id': [],\n",
    "        'patient_age': [],\n",
    "        'patient_gender': [],\n",
    "        'specialty': [],\n",
    "        'provider_id': [],\n",
    "        'procedure_code': [],\n",
    "        'diagnosis_code': [],\n",
    "        'service_date': [],\n",
    "        'claim_submission_date': [],\n",
    "        'claim_amount': [],\n",
    "        'insurance_provider': []\n",
    "    }\n",
    "\n",
    "    for _ in range(n):\n",
    "        data['claim_id'].append(fake.unique.random_number(digits=7))\n",
    "        data['patient_id'].append(fake.unique.random_number(digits=6))\n",
    "        data['patient_age'].append(random.randint(18, 85))\n",
    "        data['patient_gender'].append(random.choice(['Male', 'Female', 'Other']))\n",
    "        data['specialty'].append(random.choice(SPECIALTIES))\n",
    "        data['provider_id'].append(fake.unique.random_number(digits=5))\n",
    "        data['procedure_code'].append(random.choice(CPT_CODES))\n",
    "        data['diagnosis_code'].append(random.choice(ICD10_CODES))\n",
    "        service_date = fake.date_between(start_date='-2y', end_date='today')\n",
    "        data['service_date'].append(service_date)\n",
    "        data['claim_submission_date'].append(fake.date_between(start_date=service_date, end_date='today'))\n",
    "        data['claim_amount'].append(round(random.uniform(100, 50000), 2))\n",
    "        data['insurance_provider'].append(random.choice(INSURANCE_PROVIDERS))\n",
    "\n",
    "    return pd.DataFrame(data)\n",
    "\n",
    "# Save new data\n",
    "new_claims_df = generate_new_claims()\n",
    "new_claims_df.to_csv(\"new_claims.csv\", index=False)\n",
    "print(\"✅ New synthetic claims saved to 'new_claims.csv'\")\n"
   ]
  },
  {
   "cell_type": "code",
   "execution_count": null,
   "id": "2a7907ef",
   "metadata": {},
   "outputs": [],
   "source": []
  }
 ],
 "metadata": {
  "kernelspec": {
   "display_name": "Python 3 (ipykernel)",
   "language": "python",
   "name": "python3"
  },
  "language_info": {
   "codemirror_mode": {
    "name": "ipython",
    "version": 3
   },
   "file_extension": ".py",
   "mimetype": "text/x-python",
   "name": "python",
   "nbconvert_exporter": "python",
   "pygments_lexer": "ipython3",
   "version": "3.11.5"
  }
 },
 "nbformat": 4,
 "nbformat_minor": 5
}
